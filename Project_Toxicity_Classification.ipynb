{
  "cells": [
    {
      "cell_type": "code",
      "execution_count": 2,
      "id": "cf8918ec",
      "metadata": {
        "id": "cf8918ec"
      },
      "outputs": [],
      "source": [
        "import pandas as pd\n",
        "import numpy as np"
      ]
    },
    {
      "cell_type": "code",
      "source": [
        "from google.colab import drive\n",
        "drive.mount('/content/drive')"
      ],
      "metadata": {
        "id": "oOqsi5TUSjIv",
        "colab": {
          "base_uri": "https://localhost:8080/"
        },
        "outputId": "6e7cdd97-9885-4de8-a32e-2b35b514fd57"
      },
      "id": "oOqsi5TUSjIv",
      "execution_count": 1,
      "outputs": [
        {
          "output_type": "stream",
          "name": "stdout",
          "text": [
            "Mounted at /content/drive\n"
          ]
        }
      ]
    },
    {
      "cell_type": "code",
      "execution_count": 3,
      "id": "b91a49b4",
      "metadata": {
        "id": "b91a49b4"
      },
      "outputs": [],
      "source": [
        "data_toxic = pd.read_csv(r\"/content/drive/MyDrive/toxicity.csv\",index_col='id')"
      ]
    },
    {
      "cell_type": "code",
      "execution_count": 4,
      "id": "59763d4d",
      "metadata": {
        "id": "59763d4d",
        "outputId": "cf6e2671-acde-43ed-c181-61e496aae12b",
        "colab": {
          "base_uri": "https://localhost:8080/",
          "height": 608
        }
      },
      "outputs": [
        {
          "output_type": "execute_result",
          "data": {
            "text/plain": [
              "        target                                       comment_text  \\\n",
              "id                                                                  \n",
              "364507     0.0  NONE.  The congress makes the laws, and the Ex...   \n",
              "364508     0.0  Is there any research to tell us whether oxybe...   \n",
              "364509     0.0  OT, You are definitely on to something with yo...   \n",
              "364511     0.4  Not once does anyone mention that the shooter ...   \n",
              "364512     0.0    OS, I think the $12,000.00 proves ToTL's point.   \n",
              "\n",
              "        severe_toxicity  obscene  identity_attack  insult  threat  asian  \\\n",
              "id                                                                         \n",
              "364507              0.0      0.0              0.0     0.0     0.0    NaN   \n",
              "364508              0.0      0.0              0.0     0.0     0.0    NaN   \n",
              "364509              0.0      0.0              0.0     0.0     0.0    NaN   \n",
              "364511              0.0      0.2              0.4     0.3     0.0    0.0   \n",
              "364512              0.0      0.0              0.0     0.0     0.0    NaN   \n",
              "\n",
              "        atheist  bisexual  ...  article_id    rating  funny  wow  sad  likes  \\\n",
              "id                         ...                                                 \n",
              "364507      NaN       NaN  ...      139551  approved      0    0    0      0   \n",
              "364508      NaN       NaN  ...      139639  approved      0    0    0      1   \n",
              "364509      NaN       NaN  ...      139771  approved      0    0    0      1   \n",
              "364511      0.0       0.0  ...      139749  approved      0    0    0      0   \n",
              "364512      NaN       NaN  ...      139764  approved      0    0    0      1   \n",
              "\n",
              "        disagree  sexual_explicit  identity_annotator_count  \\\n",
              "id                                                            \n",
              "364507         0              0.0                         0   \n",
              "364508         0              0.0                         0   \n",
              "364509         0              0.0                         0   \n",
              "364511         0              0.0                         5   \n",
              "364512         0              0.0                         0   \n",
              "\n",
              "        toxicity_annotator_count  \n",
              "id                                \n",
              "364507                         4  \n",
              "364508                         4  \n",
              "364509                         4  \n",
              "364511                        10  \n",
              "364512                         4  \n",
              "\n",
              "[5 rows x 44 columns]"
            ],
            "text/html": [
              "\n",
              "  <div id=\"df-297f0a77-666c-44ad-aa19-a86a2569c066\">\n",
              "    <div class=\"colab-df-container\">\n",
              "      <div>\n",
              "<style scoped>\n",
              "    .dataframe tbody tr th:only-of-type {\n",
              "        vertical-align: middle;\n",
              "    }\n",
              "\n",
              "    .dataframe tbody tr th {\n",
              "        vertical-align: top;\n",
              "    }\n",
              "\n",
              "    .dataframe thead th {\n",
              "        text-align: right;\n",
              "    }\n",
              "</style>\n",
              "<table border=\"1\" class=\"dataframe\">\n",
              "  <thead>\n",
              "    <tr style=\"text-align: right;\">\n",
              "      <th></th>\n",
              "      <th>target</th>\n",
              "      <th>comment_text</th>\n",
              "      <th>severe_toxicity</th>\n",
              "      <th>obscene</th>\n",
              "      <th>identity_attack</th>\n",
              "      <th>insult</th>\n",
              "      <th>threat</th>\n",
              "      <th>asian</th>\n",
              "      <th>atheist</th>\n",
              "      <th>bisexual</th>\n",
              "      <th>...</th>\n",
              "      <th>article_id</th>\n",
              "      <th>rating</th>\n",
              "      <th>funny</th>\n",
              "      <th>wow</th>\n",
              "      <th>sad</th>\n",
              "      <th>likes</th>\n",
              "      <th>disagree</th>\n",
              "      <th>sexual_explicit</th>\n",
              "      <th>identity_annotator_count</th>\n",
              "      <th>toxicity_annotator_count</th>\n",
              "    </tr>\n",
              "    <tr>\n",
              "      <th>id</th>\n",
              "      <th></th>\n",
              "      <th></th>\n",
              "      <th></th>\n",
              "      <th></th>\n",
              "      <th></th>\n",
              "      <th></th>\n",
              "      <th></th>\n",
              "      <th></th>\n",
              "      <th></th>\n",
              "      <th></th>\n",
              "      <th></th>\n",
              "      <th></th>\n",
              "      <th></th>\n",
              "      <th></th>\n",
              "      <th></th>\n",
              "      <th></th>\n",
              "      <th></th>\n",
              "      <th></th>\n",
              "      <th></th>\n",
              "      <th></th>\n",
              "      <th></th>\n",
              "    </tr>\n",
              "  </thead>\n",
              "  <tbody>\n",
              "    <tr>\n",
              "      <th>364507</th>\n",
              "      <td>0.0</td>\n",
              "      <td>NONE.  The congress makes the laws, and the Ex...</td>\n",
              "      <td>0.0</td>\n",
              "      <td>0.0</td>\n",
              "      <td>0.0</td>\n",
              "      <td>0.0</td>\n",
              "      <td>0.0</td>\n",
              "      <td>NaN</td>\n",
              "      <td>NaN</td>\n",
              "      <td>NaN</td>\n",
              "      <td>...</td>\n",
              "      <td>139551</td>\n",
              "      <td>approved</td>\n",
              "      <td>0</td>\n",
              "      <td>0</td>\n",
              "      <td>0</td>\n",
              "      <td>0</td>\n",
              "      <td>0</td>\n",
              "      <td>0.0</td>\n",
              "      <td>0</td>\n",
              "      <td>4</td>\n",
              "    </tr>\n",
              "    <tr>\n",
              "      <th>364508</th>\n",
              "      <td>0.0</td>\n",
              "      <td>Is there any research to tell us whether oxybe...</td>\n",
              "      <td>0.0</td>\n",
              "      <td>0.0</td>\n",
              "      <td>0.0</td>\n",
              "      <td>0.0</td>\n",
              "      <td>0.0</td>\n",
              "      <td>NaN</td>\n",
              "      <td>NaN</td>\n",
              "      <td>NaN</td>\n",
              "      <td>...</td>\n",
              "      <td>139639</td>\n",
              "      <td>approved</td>\n",
              "      <td>0</td>\n",
              "      <td>0</td>\n",
              "      <td>0</td>\n",
              "      <td>1</td>\n",
              "      <td>0</td>\n",
              "      <td>0.0</td>\n",
              "      <td>0</td>\n",
              "      <td>4</td>\n",
              "    </tr>\n",
              "    <tr>\n",
              "      <th>364509</th>\n",
              "      <td>0.0</td>\n",
              "      <td>OT, You are definitely on to something with yo...</td>\n",
              "      <td>0.0</td>\n",
              "      <td>0.0</td>\n",
              "      <td>0.0</td>\n",
              "      <td>0.0</td>\n",
              "      <td>0.0</td>\n",
              "      <td>NaN</td>\n",
              "      <td>NaN</td>\n",
              "      <td>NaN</td>\n",
              "      <td>...</td>\n",
              "      <td>139771</td>\n",
              "      <td>approved</td>\n",
              "      <td>0</td>\n",
              "      <td>0</td>\n",
              "      <td>0</td>\n",
              "      <td>1</td>\n",
              "      <td>0</td>\n",
              "      <td>0.0</td>\n",
              "      <td>0</td>\n",
              "      <td>4</td>\n",
              "    </tr>\n",
              "    <tr>\n",
              "      <th>364511</th>\n",
              "      <td>0.4</td>\n",
              "      <td>Not once does anyone mention that the shooter ...</td>\n",
              "      <td>0.0</td>\n",
              "      <td>0.2</td>\n",
              "      <td>0.4</td>\n",
              "      <td>0.3</td>\n",
              "      <td>0.0</td>\n",
              "      <td>0.0</td>\n",
              "      <td>0.0</td>\n",
              "      <td>0.0</td>\n",
              "      <td>...</td>\n",
              "      <td>139749</td>\n",
              "      <td>approved</td>\n",
              "      <td>0</td>\n",
              "      <td>0</td>\n",
              "      <td>0</td>\n",
              "      <td>0</td>\n",
              "      <td>0</td>\n",
              "      <td>0.0</td>\n",
              "      <td>5</td>\n",
              "      <td>10</td>\n",
              "    </tr>\n",
              "    <tr>\n",
              "      <th>364512</th>\n",
              "      <td>0.0</td>\n",
              "      <td>OS, I think the $12,000.00 proves ToTL's point.</td>\n",
              "      <td>0.0</td>\n",
              "      <td>0.0</td>\n",
              "      <td>0.0</td>\n",
              "      <td>0.0</td>\n",
              "      <td>0.0</td>\n",
              "      <td>NaN</td>\n",
              "      <td>NaN</td>\n",
              "      <td>NaN</td>\n",
              "      <td>...</td>\n",
              "      <td>139764</td>\n",
              "      <td>approved</td>\n",
              "      <td>0</td>\n",
              "      <td>0</td>\n",
              "      <td>0</td>\n",
              "      <td>1</td>\n",
              "      <td>0</td>\n",
              "      <td>0.0</td>\n",
              "      <td>0</td>\n",
              "      <td>4</td>\n",
              "    </tr>\n",
              "  </tbody>\n",
              "</table>\n",
              "<p>5 rows × 44 columns</p>\n",
              "</div>\n",
              "      <button class=\"colab-df-convert\" onclick=\"convertToInteractive('df-297f0a77-666c-44ad-aa19-a86a2569c066')\"\n",
              "              title=\"Convert this dataframe to an interactive table.\"\n",
              "              style=\"display:none;\">\n",
              "        \n",
              "  <svg xmlns=\"http://www.w3.org/2000/svg\" height=\"24px\"viewBox=\"0 0 24 24\"\n",
              "       width=\"24px\">\n",
              "    <path d=\"M0 0h24v24H0V0z\" fill=\"none\"/>\n",
              "    <path d=\"M18.56 5.44l.94 2.06.94-2.06 2.06-.94-2.06-.94-.94-2.06-.94 2.06-2.06.94zm-11 1L8.5 8.5l.94-2.06 2.06-.94-2.06-.94L8.5 2.5l-.94 2.06-2.06.94zm10 10l.94 2.06.94-2.06 2.06-.94-2.06-.94-.94-2.06-.94 2.06-2.06.94z\"/><path d=\"M17.41 7.96l-1.37-1.37c-.4-.4-.92-.59-1.43-.59-.52 0-1.04.2-1.43.59L10.3 9.45l-7.72 7.72c-.78.78-.78 2.05 0 2.83L4 21.41c.39.39.9.59 1.41.59.51 0 1.02-.2 1.41-.59l7.78-7.78 2.81-2.81c.8-.78.8-2.07 0-2.86zM5.41 20L4 18.59l7.72-7.72 1.47 1.35L5.41 20z\"/>\n",
              "  </svg>\n",
              "      </button>\n",
              "      \n",
              "  <style>\n",
              "    .colab-df-container {\n",
              "      display:flex;\n",
              "      flex-wrap:wrap;\n",
              "      gap: 12px;\n",
              "    }\n",
              "\n",
              "    .colab-df-convert {\n",
              "      background-color: #E8F0FE;\n",
              "      border: none;\n",
              "      border-radius: 50%;\n",
              "      cursor: pointer;\n",
              "      display: none;\n",
              "      fill: #1967D2;\n",
              "      height: 32px;\n",
              "      padding: 0 0 0 0;\n",
              "      width: 32px;\n",
              "    }\n",
              "\n",
              "    .colab-df-convert:hover {\n",
              "      background-color: #E2EBFA;\n",
              "      box-shadow: 0px 1px 2px rgba(60, 64, 67, 0.3), 0px 1px 3px 1px rgba(60, 64, 67, 0.15);\n",
              "      fill: #174EA6;\n",
              "    }\n",
              "\n",
              "    [theme=dark] .colab-df-convert {\n",
              "      background-color: #3B4455;\n",
              "      fill: #D2E3FC;\n",
              "    }\n",
              "\n",
              "    [theme=dark] .colab-df-convert:hover {\n",
              "      background-color: #434B5C;\n",
              "      box-shadow: 0px 1px 3px 1px rgba(0, 0, 0, 0.15);\n",
              "      filter: drop-shadow(0px 1px 2px rgba(0, 0, 0, 0.3));\n",
              "      fill: #FFFFFF;\n",
              "    }\n",
              "  </style>\n",
              "\n",
              "      <script>\n",
              "        const buttonEl =\n",
              "          document.querySelector('#df-297f0a77-666c-44ad-aa19-a86a2569c066 button.colab-df-convert');\n",
              "        buttonEl.style.display =\n",
              "          google.colab.kernel.accessAllowed ? 'block' : 'none';\n",
              "\n",
              "        async function convertToInteractive(key) {\n",
              "          const element = document.querySelector('#df-297f0a77-666c-44ad-aa19-a86a2569c066');\n",
              "          const dataTable =\n",
              "            await google.colab.kernel.invokeFunction('convertToInteractive',\n",
              "                                                     [key], {});\n",
              "          if (!dataTable) return;\n",
              "\n",
              "          const docLinkHtml = 'Like what you see? Visit the ' +\n",
              "            '<a target=\"_blank\" href=https://colab.research.google.com/notebooks/data_table.ipynb>data table notebook</a>'\n",
              "            + ' to learn more about interactive tables.';\n",
              "          element.innerHTML = '';\n",
              "          dataTable['output_type'] = 'display_data';\n",
              "          await google.colab.output.renderOutput(dataTable, element);\n",
              "          const docLink = document.createElement('div');\n",
              "          docLink.innerHTML = docLinkHtml;\n",
              "          element.appendChild(docLink);\n",
              "        }\n",
              "      </script>\n",
              "    </div>\n",
              "  </div>\n",
              "  "
            ]
          },
          "metadata": {},
          "execution_count": 4
        }
      ],
      "source": [
        "data_toxic.head()"
      ]
    },
    {
      "cell_type": "code",
      "execution_count": 5,
      "id": "a775bd71",
      "metadata": {
        "id": "a775bd71",
        "outputId": "8585b167-31bc-4d40-8100-a06b7b57aa41",
        "colab": {
          "base_uri": "https://localhost:8080/"
        }
      },
      "outputs": [
        {
          "output_type": "execute_result",
          "data": {
            "text/plain": [
              "(100000, 44)"
            ]
          },
          "metadata": {},
          "execution_count": 5
        }
      ],
      "source": [
        "data_toxic.shape"
      ]
    },
    {
      "cell_type": "code",
      "execution_count": 6,
      "id": "f3dce2d5",
      "metadata": {
        "id": "f3dce2d5",
        "outputId": "15314acf-e51a-4ab1-cd15-138ae38533a5",
        "colab": {
          "base_uri": "https://localhost:8080/"
        }
      },
      "outputs": [
        {
          "output_type": "execute_result",
          "data": {
            "text/plain": [
              "target                                     0\n",
              "comment_text                               0\n",
              "severe_toxicity                            0\n",
              "obscene                                    0\n",
              "identity_attack                            0\n",
              "insult                                     0\n",
              "threat                                     0\n",
              "asian                                  79902\n",
              "atheist                                79902\n",
              "bisexual                               79902\n",
              "black                                  79902\n",
              "buddhist                               79902\n",
              "christian                              79902\n",
              "female                                 79902\n",
              "heterosexual                           79902\n",
              "hindu                                  79902\n",
              "homosexual_gay_or_lesbian              79902\n",
              "intellectual_or_learning_disability    79902\n",
              "jewish                                 79902\n",
              "latino                                 79902\n",
              "male                                   79902\n",
              "muslim                                 79902\n",
              "other_disability                       79902\n",
              "other_gender                           79902\n",
              "other_race_or_ethnicity                79902\n",
              "other_religion                         79902\n",
              "other_sexual_orientation               79902\n",
              "physical_disability                    79902\n",
              "psychiatric_or_mental_illness          79902\n",
              "transgender                            79902\n",
              "white                                  79902\n",
              "created_date                               0\n",
              "publication_id                             0\n",
              "parent_id                              43236\n",
              "article_id                                 0\n",
              "rating                                     0\n",
              "funny                                      0\n",
              "wow                                        0\n",
              "sad                                        0\n",
              "likes                                      0\n",
              "disagree                                   0\n",
              "sexual_explicit                            0\n",
              "identity_annotator_count                   0\n",
              "toxicity_annotator_count                   0\n",
              "dtype: int64"
            ]
          },
          "metadata": {},
          "execution_count": 6
        }
      ],
      "source": [
        "data_toxic.isna().sum()"
      ]
    },
    {
      "cell_type": "code",
      "execution_count": 7,
      "id": "030d750c",
      "metadata": {
        "id": "030d750c",
        "outputId": "a0288da7-d281-46a6-de69-c53b771dc2b6",
        "colab": {
          "base_uri": "https://localhost:8080/"
        }
      },
      "outputs": [
        {
          "output_type": "stream",
          "name": "stdout",
          "text": [
            "<class 'pandas.core.frame.DataFrame'>\n",
            "Int64Index: 100000 entries, 364507 to 485895\n",
            "Data columns (total 44 columns):\n",
            " #   Column                               Non-Null Count   Dtype  \n",
            "---  ------                               --------------   -----  \n",
            " 0   target                               100000 non-null  float64\n",
            " 1   comment_text                         100000 non-null  object \n",
            " 2   severe_toxicity                      100000 non-null  float64\n",
            " 3   obscene                              100000 non-null  float64\n",
            " 4   identity_attack                      100000 non-null  float64\n",
            " 5   insult                               100000 non-null  float64\n",
            " 6   threat                               100000 non-null  float64\n",
            " 7   asian                                20098 non-null   float64\n",
            " 8   atheist                              20098 non-null   float64\n",
            " 9   bisexual                             20098 non-null   float64\n",
            " 10  black                                20098 non-null   float64\n",
            " 11  buddhist                             20098 non-null   float64\n",
            " 12  christian                            20098 non-null   float64\n",
            " 13  female                               20098 non-null   float64\n",
            " 14  heterosexual                         20098 non-null   float64\n",
            " 15  hindu                                20098 non-null   float64\n",
            " 16  homosexual_gay_or_lesbian            20098 non-null   float64\n",
            " 17  intellectual_or_learning_disability  20098 non-null   float64\n",
            " 18  jewish                               20098 non-null   float64\n",
            " 19  latino                               20098 non-null   float64\n",
            " 20  male                                 20098 non-null   float64\n",
            " 21  muslim                               20098 non-null   float64\n",
            " 22  other_disability                     20098 non-null   float64\n",
            " 23  other_gender                         20098 non-null   float64\n",
            " 24  other_race_or_ethnicity              20098 non-null   float64\n",
            " 25  other_religion                       20098 non-null   float64\n",
            " 26  other_sexual_orientation             20098 non-null   float64\n",
            " 27  physical_disability                  20098 non-null   float64\n",
            " 28  psychiatric_or_mental_illness        20098 non-null   float64\n",
            " 29  transgender                          20098 non-null   float64\n",
            " 30  white                                20098 non-null   float64\n",
            " 31  created_date                         100000 non-null  object \n",
            " 32  publication_id                       100000 non-null  int64  \n",
            " 33  parent_id                            56764 non-null   float64\n",
            " 34  article_id                           100000 non-null  int64  \n",
            " 35  rating                               100000 non-null  object \n",
            " 36  funny                                100000 non-null  int64  \n",
            " 37  wow                                  100000 non-null  int64  \n",
            " 38  sad                                  100000 non-null  int64  \n",
            " 39  likes                                100000 non-null  int64  \n",
            " 40  disagree                             100000 non-null  int64  \n",
            " 41  sexual_explicit                      100000 non-null  float64\n",
            " 42  identity_annotator_count             100000 non-null  int64  \n",
            " 43  toxicity_annotator_count             100000 non-null  int64  \n",
            "dtypes: float64(32), int64(9), object(3)\n",
            "memory usage: 34.3+ MB\n"
          ]
        }
      ],
      "source": [
        "data_toxic.info()"
      ]
    },
    {
      "cell_type": "code",
      "execution_count": 8,
      "id": "e5e9aa04",
      "metadata": {
        "id": "e5e9aa04",
        "outputId": "100f78ce-e7b8-4764-d8d7-36f3bd2751b1",
        "colab": {
          "base_uri": "https://localhost:8080/"
        }
      },
      "outputs": [
        {
          "output_type": "stream",
          "name": "stdout",
          "text": [
            "Shape of Data :(100000, 44)\n"
          ]
        }
      ],
      "source": [
        "#Check for shape of the data\n",
        "print(\"Shape of Data :{}\".format(data_toxic.shape))"
      ]
    },
    {
      "cell_type": "markdown",
      "id": "b6b51e62",
      "metadata": {
        "id": "b6b51e62"
      },
      "source": [
        "# Exploratory Data Analysis"
      ]
    },
    {
      "cell_type": "code",
      "execution_count": 26,
      "id": "c426e9b5",
      "metadata": {
        "id": "c426e9b5",
        "outputId": "b3b591bf-21bb-48d3-b8e7-7ef60bb308cd",
        "colab": {
          "base_uri": "https://localhost:8080/",
          "height": 459
        }
      },
      "outputs": [
        {
          "output_type": "stream",
          "name": "stderr",
          "text": [
            "/usr/local/lib/python3.8/dist-packages/seaborn/distributions.py:2619: FutureWarning: `distplot` is a deprecated function and will be removed in a future version. Please adapt your code to use either `displot` (a figure-level function with similar flexibility) or `kdeplot` (an axes-level function for kernel density plots).\n",
            "  warnings.warn(msg, FutureWarning)\n"
          ]
        },
        {
          "output_type": "display_data",
          "data": {
            "text/plain": [
              "<Figure size 1080x432 with 1 Axes>"
            ],
            "image/png": "[encoded data removed]"
          },
          "metadata": {
            "needs_background": "light"
          }
        }
      ],
      "source": [
        "import matplotlib.pyplot as plt\n",
        "import seaborn as sns\n",
        "#Target Data\n",
        "plt.figure(figsize=(15,6))\n",
        "plt.title(\"Target value Distributions\")\n",
        "sns.distplot(data_toxic['target'], kde=True, hist=False, bins=240, label='target')\n",
        "plt.show()"
      ]
    },
    {
      "cell_type": "markdown",
      "id": "94ef2e2f",
      "metadata": {
        "id": "94ef2e2f"
      },
      "source": [
        "Percentage of Toxic and Non-Toxic in the target class"
      ]
    },
    {
      "cell_type": "code",
      "execution_count": 27,
      "id": "b620ea27",
      "metadata": {
        "id": "b620ea27",
        "outputId": "19ed8ea2-009b-45fe-f41d-2fc9a66a9d01",
        "colab": {
          "base_uri": "https://localhost:8080/",
          "height": 454
        }
      },
      "outputs": [
        {
          "output_type": "stream",
          "name": "stderr",
          "text": [
            "<ipython-input-27-02d7e34dc92c>:2: SettingWithCopyWarning: \n",
            "A value is trying to be set on a copy of a slice from a DataFrame\n",
            "\n",
            "See the caveats in the documentation: https://pandas.pydata.org/pandas-docs/stable/user_guide/indexing.html#returning-a-view-versus-a-copy\n",
            "  temp['target'] = data_toxic['target'].apply(lambda x:\"Non-toxic\" if x < 0.5 else\"toxic\")\n"
          ]
        },
        {
          "output_type": "execute_result",
          "data": {
            "text/plain": [
              "Text(0.5, 1.0, 'Percentage of non-toxic and toxic comments')"
            ]
          },
          "metadata": {},
          "execution_count": 27
        },
        {
          "output_type": "display_data",
          "data": {
            "text/plain": [
              "<Figure size 360x360 with 1 Axes>"
            ],
            "image/png": "[encoded data removed]"
          },
          "metadata": {
            "needs_background": "light"
          }
        }
      ],
      "source": [
        "temp = data_toxic['target']\n",
        "temp['target'] = data_toxic['target'].apply(lambda x:\"Non-toxic\" if x < 0.5 else\"toxic\")\n",
        "fig, ax = plt.subplots(1,1,figsize=(5,5))\n",
        "total = float(len(temp))\n",
        "# Plot the count plot.\n",
        "cntplot = sns.countplot(x=temp['target'])\n",
        "cntplot.set_title('Percentage of non-toxic and toxic comments')"
      ]
    },
    {
      "cell_type": "markdown",
      "id": "b5e410a4",
      "metadata": {
        "id": "b5e410a4"
      },
      "source": [
        "The Dataset is imbalanced.Non-toxic class is very higher than toxic comments"
      ]
    },
    {
      "cell_type": "markdown",
      "id": "be5aaa48",
      "metadata": {
        "id": "be5aaa48"
      },
      "source": [
        "# Preprocessing the Text"
      ]
    },
    {
      "cell_type": "code",
      "execution_count": 9,
      "id": "eecd2c6a",
      "metadata": {
        "id": "eecd2c6a"
      },
      "outputs": [],
      "source": [
        "#import neccessary libraries for preprocessing\n",
        "import nltk\n",
        "from nltk.stem import SnowballStemmer, PorterStemmer\n",
        "from nltk.corpus import stopwords\n",
        "import re"
      ]
    },
    {
      "cell_type": "code",
      "source": [
        "nltk.download('stopwords')"
      ],
      "metadata": {
        "colab": {
          "base_uri": "https://localhost:8080/"
        },
        "id": "PX8fVH8dfVO-",
        "outputId": "cff849f8-5e65-4d72-af35-4cdabd8471db"
      },
      "id": "PX8fVH8dfVO-",
      "execution_count": 10,
      "outputs": [
        {
          "output_type": "stream",
          "name": "stderr",
          "text": [
            "[nltk_data] Downloading package stopwords to /root/nltk_data...\n",
            "[nltk_data]   Unzipping corpora/stopwords.zip.\n"
          ]
        },
        {
          "output_type": "execute_result",
          "data": {
            "text/plain": [
              "True"
            ]
          },
          "metadata": {},
          "execution_count": 10
        }
      ]
    },
    {
      "cell_type": "code",
      "execution_count": 11,
      "id": "91203d3b",
      "metadata": {
        "id": "91203d3b"
      },
      "outputs": [],
      "source": [
        "stemmer = SnowballStemmer(\"english\")\n",
        "stop_words = set(stopwords.words('english'))\n",
        "def preprocess(text):\n",
        "    text = text.lower()\n",
        "    text = re.sub('[^A-Za-z0-9]+', ' ', text)\n",
        "    \n",
        "    x = text.split()\n",
        "    new_text = []\n",
        "    \n",
        "    for word in x:\n",
        "        if word not in stop_words:\n",
        "            new_text.append(stemmer.stem(word))\n",
        "            \n",
        "    text = ' '.join(new_text)\n",
        "    return text"
      ]
    },
    {
      "cell_type": "code",
      "execution_count": 12,
      "id": "5529105c",
      "metadata": {
        "id": "5529105c"
      },
      "outputs": [],
      "source": [
        "data_toxic['preprocessed_text'] = data_toxic['comment_text'].apply(preprocess)"
      ]
    },
    {
      "cell_type": "code",
      "source": [
        "data_toxic"
      ],
      "metadata": {
        "colab": {
          "base_uri": "https://localhost:8080/",
          "height": 1000
        },
        "id": "PBBHc4MsXQA4",
        "outputId": "3570b75f-6aef-4bd9-f590-88d32a539d36"
      },
      "id": "PBBHc4MsXQA4",
      "execution_count": 13,
      "outputs": [
        {
          "output_type": "execute_result",
          "data": {
            "text/plain": [
              "          target                                       comment_text  \\\n",
              "id                                                                    \n",
              "364507  0.000000  NONE.  The congress makes the laws, and the Ex...   \n",
              "364508  0.000000  Is there any research to tell us whether oxybe...   \n",
              "364509  0.000000  OT, You are definitely on to something with yo...   \n",
              "364511  0.400000  Not once does anyone mention that the shooter ...   \n",
              "364512  0.000000    OS, I think the $12,000.00 proves ToTL's point.   \n",
              "...          ...                                                ...   \n",
              "485891  0.057143  Swooned like no other, ever. Except of course ...   \n",
              "485892  0.000000  It takes a big man to admit he was wrong, Mr. ...   \n",
              "485893  0.000000                                 Cal meant Putin...   \n",
              "485894  0.000000  Guaranteed, if you elect Metcalfe this year an...   \n",
              "485895  0.300000  I'm guessing you don't know West High.. It's c...   \n",
              "\n",
              "        severe_toxicity  obscene  identity_attack    insult  threat  asian  \\\n",
              "id                                                                           \n",
              "364507              0.0      0.0         0.000000  0.000000     0.0    NaN   \n",
              "364508              0.0      0.0         0.000000  0.000000     0.0    NaN   \n",
              "364509              0.0      0.0         0.000000  0.000000     0.0    NaN   \n",
              "364511              0.0      0.2         0.400000  0.300000     0.0    0.0   \n",
              "364512              0.0      0.0         0.000000  0.000000     0.0    NaN   \n",
              "...                 ...      ...              ...       ...     ...    ...   \n",
              "485891              0.0      0.0         0.028571  0.057143     0.0    0.0   \n",
              "485892              0.0      0.0         0.000000  0.000000     0.0    NaN   \n",
              "485893              0.0      0.0         0.000000  0.000000     0.0    NaN   \n",
              "485894              0.0      0.0         0.000000  0.000000     0.0    NaN   \n",
              "485895              0.0      0.0         0.000000  0.300000     0.0    NaN   \n",
              "\n",
              "        atheist  bisexual  ...    rating  funny  wow  sad  likes  disagree  \\\n",
              "id                         ...                                               \n",
              "364507      NaN       NaN  ...  approved      0    0    0      0         0   \n",
              "364508      NaN       NaN  ...  approved      0    0    0      1         0   \n",
              "364509      NaN       NaN  ...  approved      0    0    0      1         0   \n",
              "364511      0.0       0.0  ...  approved      0    0    0      0         0   \n",
              "364512      NaN       NaN  ...  approved      0    0    0      1         0   \n",
              "...         ...       ...  ...       ...    ...  ...  ...    ...       ...   \n",
              "485891      0.0       0.0  ...  approved      0    0    0      3         0   \n",
              "485892      NaN       NaN  ...  approved      0    0    0      2         0   \n",
              "485893      NaN       NaN  ...  approved      0    0    0      2         0   \n",
              "485894      NaN       NaN  ...  approved      0    0    0      0         0   \n",
              "485895      NaN       NaN  ...  approved      0    0    0      0         0   \n",
              "\n",
              "        sexual_explicit  identity_annotator_count  toxicity_annotator_count  \\\n",
              "id                                                                            \n",
              "364507              0.0                         0                         4   \n",
              "364508              0.0                         0                         4   \n",
              "364509              0.0                         0                         4   \n",
              "364511              0.0                         5                        10   \n",
              "364512              0.0                         0                         4   \n",
              "...                 ...                       ...                       ...   \n",
              "485891              0.0                         4                        35   \n",
              "485892              0.0                         0                         4   \n",
              "485893              0.0                         0                         4   \n",
              "485894              0.0                         0                         4   \n",
              "485895              0.0                         0                        10   \n",
              "\n",
              "                                        preprocessed_text  \n",
              "id                                                         \n",
              "364507  none congress make law execut offic follow ex ...  \n",
              "364508  research tell us whether oxybenaon get wash sh...  \n",
              "364509                             ot definit someth post  \n",
              "364511  anyon mention shooter told everyon shoot name ...  \n",
              "364512                os think 12 000 00 prove totl point  \n",
              "...                                                   ...  \n",
              "485891  swoon like ever except cours adolf hitler ever...  \n",
              "485892  take big man admit wrong mr neal govmint burea...  \n",
              "485893                                    cal meant putin  \n",
              "485894  guarante elect metcalf year 2022 term limit c ...  \n",
              "485895  guess know west high chalk full gang junk mino...  \n",
              "\n",
              "[100000 rows x 45 columns]"
            ],
            "text/html": [
              "\n",
              "  <div id=\"df-848c3bce-dc59-4e17-a3b2-45fa082e751c\">\n",
              "    <div class=\"colab-df-container\">\n",
              "      <div>\n",
              "<style scoped>\n",
              "    .dataframe tbody tr th:only-of-type {\n",
              "        vertical-align: middle;\n",
              "    }\n",
              "\n",
              "    .dataframe tbody tr th {\n",
              "        vertical-align: top;\n",
              "    }\n",
              "\n",
              "    .dataframe thead th {\n",
              "        text-align: right;\n",
              "    }\n",
              "</style>\n",
              "<table border=\"1\" class=\"dataframe\">\n",
              "  <thead>\n",
              "    <tr style=\"text-align: right;\">\n",
              "      <th></th>\n",
              "      <th>target</th>\n",
              "      <th>comment_text</th>\n",
              "      <th>severe_toxicity</th>\n",
              "      <th>obscene</th>\n",
              "      <th>identity_attack</th>\n",
              "      <th>insult</th>\n",
              "      <th>threat</th>\n",
              "      <th>asian</th>\n",
              "      <th>atheist</th>\n",
              "      <th>bisexual</th>\n",
              "      <th>...</th>\n",
              "      <th>rating</th>\n",
              "      <th>funny</th>\n",
              "      <th>wow</th>\n",
              "      <th>sad</th>\n",
              "      <th>likes</th>\n",
              "      <th>disagree</th>\n",
              "      <th>sexual_explicit</th>\n",
              "      <th>identity_annotator_count</th>\n",
              "      <th>toxicity_annotator_count</th>\n",
              "      <th>preprocessed_text</th>\n",
              "    </tr>\n",
              "    <tr>\n",
              "      <th>id</th>\n",
              "      <th></th>\n",
              "      <th></th>\n",
              "      <th></th>\n",
              "      <th></th>\n",
              "      <th></th>\n",
              "      <th></th>\n",
              "      <th></th>\n",
              "      <th></th>\n",
              "      <th></th>\n",
              "      <th></th>\n",
              "      <th></th>\n",
              "      <th></th>\n",
              "      <th></th>\n",
              "      <th></th>\n",
              "      <th></th>\n",
              "      <th></th>\n",
              "      <th></th>\n",
              "      <th></th>\n",
              "      <th></th>\n",
              "      <th></th>\n",
              "      <th></th>\n",
              "    </tr>\n",
              "  </thead>\n",
              "  <tbody>\n",
              "    <tr>\n",
              "      <th>364507</th>\n",
              "      <td>0.000000</td>\n",
              "      <td>NONE.  The congress makes the laws, and the Ex...</td>\n",
              "      <td>0.0</td>\n",
              "      <td>0.0</td>\n",
              "      <td>0.000000</td>\n",
              "      <td>0.000000</td>\n",
              "      <td>0.0</td>\n",
              "      <td>NaN</td>\n",
              "      <td>NaN</td>\n",
              "      <td>NaN</td>\n",
              "      <td>...</td>\n",
              "      <td>approved</td>\n",
              "      <td>0</td>\n",
              "      <td>0</td>\n",
              "      <td>0</td>\n",
              "      <td>0</td>\n",
              "      <td>0</td>\n",
              "      <td>0.0</td>\n",
              "      <td>0</td>\n",
              "      <td>4</td>\n",
              "      <td>none congress make law execut offic follow ex ...</td>\n",
              "    </tr>\n",
              "    <tr>\n",
              "      <th>364508</th>\n",
              "      <td>0.000000</td>\n",
              "      <td>Is there any research to tell us whether oxybe...</td>\n",
              "      <td>0.0</td>\n",
              "      <td>0.0</td>\n",
              "      <td>0.000000</td>\n",
              "      <td>0.000000</td>\n",
              "      <td>0.0</td>\n",
              "      <td>NaN</td>\n",
              "      <td>NaN</td>\n",
              "      <td>NaN</td>\n",
              "      <td>...</td>\n",
              "      <td>approved</td>\n",
              "      <td>0</td>\n",
              "      <td>0</td>\n",
              "      <td>0</td>\n",
              "      <td>1</td>\n",
              "      <td>0</td>\n",
              "      <td>0.0</td>\n",
              "      <td>0</td>\n",
              "      <td>4</td>\n",
              "      <td>research tell us whether oxybenaon get wash sh...</td>\n",
              "    </tr>\n",
              "    <tr>\n",
              "      <th>364509</th>\n",
              "      <td>0.000000</td>\n",
              "      <td>OT, You are definitely on to something with yo...</td>\n",
              "      <td>0.0</td>\n",
              "      <td>0.0</td>\n",
              "      <td>0.000000</td>\n",
              "      <td>0.000000</td>\n",
              "      <td>0.0</td>\n",
              "      <td>NaN</td>\n",
              "      <td>NaN</td>\n",
              "      <td>NaN</td>\n",
              "      <td>...</td>\n",
              "      <td>approved</td>\n",
              "      <td>0</td>\n",
              "      <td>0</td>\n",
              "      <td>0</td>\n",
              "      <td>1</td>\n",
              "      <td>0</td>\n",
              "      <td>0.0</td>\n",
              "      <td>0</td>\n",
              "      <td>4</td>\n",
              "      <td>ot definit someth post</td>\n",
              "    </tr>\n",
              "    <tr>\n",
              "      <th>364511</th>\n",
              "      <td>0.400000</td>\n",
              "      <td>Not once does anyone mention that the shooter ...</td>\n",
              "      <td>0.0</td>\n",
              "      <td>0.2</td>\n",
              "      <td>0.400000</td>\n",
              "      <td>0.300000</td>\n",
              "      <td>0.0</td>\n",
              "      <td>0.0</td>\n",
              "      <td>0.0</td>\n",
              "      <td>0.0</td>\n",
              "      <td>...</td>\n",
              "      <td>approved</td>\n",
              "      <td>0</td>\n",
              "      <td>0</td>\n",
              "      <td>0</td>\n",
              "      <td>0</td>\n",
              "      <td>0</td>\n",
              "      <td>0.0</td>\n",
              "      <td>5</td>\n",
              "      <td>10</td>\n",
              "      <td>anyon mention shooter told everyon shoot name ...</td>\n",
              "    </tr>\n",
              "    <tr>\n",
              "      <th>364512</th>\n",
              "      <td>0.000000</td>\n",
              "      <td>OS, I think the $12,000.00 proves ToTL's point.</td>\n",
              "      <td>0.0</td>\n",
              "      <td>0.0</td>\n",
              "      <td>0.000000</td>\n",
              "      <td>0.000000</td>\n",
              "      <td>0.0</td>\n",
              "      <td>NaN</td>\n",
              "      <td>NaN</td>\n",
              "      <td>NaN</td>\n",
              "      <td>...</td>\n",
              "      <td>approved</td>\n",
              "      <td>0</td>\n",
              "      <td>0</td>\n",
              "      <td>0</td>\n",
              "      <td>1</td>\n",
              "      <td>0</td>\n",
              "      <td>0.0</td>\n",
              "      <td>0</td>\n",
              "      <td>4</td>\n",
              "      <td>os think 12 000 00 prove totl point</td>\n",
              "    </tr>\n",
              "    <tr>\n",
              "      <th>...</th>\n",
              "      <td>...</td>\n",
              "      <td>...</td>\n",
              "      <td>...</td>\n",
              "      <td>...</td>\n",
              "      <td>...</td>\n",
              "      <td>...</td>\n",
              "      <td>...</td>\n",
              "      <td>...</td>\n",
              "      <td>...</td>\n",
              "      <td>...</td>\n",
              "      <td>...</td>\n",
              "      <td>...</td>\n",
              "      <td>...</td>\n",
              "      <td>...</td>\n",
              "      <td>...</td>\n",
              "      <td>...</td>\n",
              "      <td>...</td>\n",
              "      <td>...</td>\n",
              "      <td>...</td>\n",
              "      <td>...</td>\n",
              "      <td>...</td>\n",
              "    </tr>\n",
              "    <tr>\n",
              "      <th>485891</th>\n",
              "      <td>0.057143</td>\n",
              "      <td>Swooned like no other, ever. Except of course ...</td>\n",
              "      <td>0.0</td>\n",
              "      <td>0.0</td>\n",
              "      <td>0.028571</td>\n",
              "      <td>0.057143</td>\n",
              "      <td>0.0</td>\n",
              "      <td>0.0</td>\n",
              "      <td>0.0</td>\n",
              "      <td>0.0</td>\n",
              "      <td>...</td>\n",
              "      <td>approved</td>\n",
              "      <td>0</td>\n",
              "      <td>0</td>\n",
              "      <td>0</td>\n",
              "      <td>3</td>\n",
              "      <td>0</td>\n",
              "      <td>0.0</td>\n",
              "      <td>4</td>\n",
              "      <td>35</td>\n",
              "      <td>swoon like ever except cours adolf hitler ever...</td>\n",
              "    </tr>\n",
              "    <tr>\n",
              "      <th>485892</th>\n",
              "      <td>0.000000</td>\n",
              "      <td>It takes a big man to admit he was wrong, Mr. ...</td>\n",
              "      <td>0.0</td>\n",
              "      <td>0.0</td>\n",
              "      <td>0.000000</td>\n",
              "      <td>0.000000</td>\n",
              "      <td>0.0</td>\n",
              "      <td>NaN</td>\n",
              "      <td>NaN</td>\n",
              "      <td>NaN</td>\n",
              "      <td>...</td>\n",
              "      <td>approved</td>\n",
              "      <td>0</td>\n",
              "      <td>0</td>\n",
              "      <td>0</td>\n",
              "      <td>2</td>\n",
              "      <td>0</td>\n",
              "      <td>0.0</td>\n",
              "      <td>0</td>\n",
              "      <td>4</td>\n",
              "      <td>take big man admit wrong mr neal govmint burea...</td>\n",
              "    </tr>\n",
              "    <tr>\n",
              "      <th>485893</th>\n",
              "      <td>0.000000</td>\n",
              "      <td>Cal meant Putin...</td>\n",
              "      <td>0.0</td>\n",
              "      <td>0.0</td>\n",
              "      <td>0.000000</td>\n",
              "      <td>0.000000</td>\n",
              "      <td>0.0</td>\n",
              "      <td>NaN</td>\n",
              "      <td>NaN</td>\n",
              "      <td>NaN</td>\n",
              "      <td>...</td>\n",
              "      <td>approved</td>\n",
              "      <td>0</td>\n",
              "      <td>0</td>\n",
              "      <td>0</td>\n",
              "      <td>2</td>\n",
              "      <td>0</td>\n",
              "      <td>0.0</td>\n",
              "      <td>0</td>\n",
              "      <td>4</td>\n",
              "      <td>cal meant putin</td>\n",
              "    </tr>\n",
              "    <tr>\n",
              "      <th>485894</th>\n",
              "      <td>0.000000</td>\n",
              "      <td>Guaranteed, if you elect Metcalfe this year an...</td>\n",
              "      <td>0.0</td>\n",
              "      <td>0.0</td>\n",
              "      <td>0.000000</td>\n",
              "      <td>0.000000</td>\n",
              "      <td>0.0</td>\n",
              "      <td>NaN</td>\n",
              "      <td>NaN</td>\n",
              "      <td>NaN</td>\n",
              "      <td>...</td>\n",
              "      <td>approved</td>\n",
              "      <td>0</td>\n",
              "      <td>0</td>\n",
              "      <td>0</td>\n",
              "      <td>0</td>\n",
              "      <td>0</td>\n",
              "      <td>0.0</td>\n",
              "      <td>0</td>\n",
              "      <td>4</td>\n",
              "      <td>guarante elect metcalf year 2022 term limit c ...</td>\n",
              "    </tr>\n",
              "    <tr>\n",
              "      <th>485895</th>\n",
              "      <td>0.300000</td>\n",
              "      <td>I'm guessing you don't know West High.. It's c...</td>\n",
              "      <td>0.0</td>\n",
              "      <td>0.0</td>\n",
              "      <td>0.000000</td>\n",
              "      <td>0.300000</td>\n",
              "      <td>0.0</td>\n",
              "      <td>NaN</td>\n",
              "      <td>NaN</td>\n",
              "      <td>NaN</td>\n",
              "      <td>...</td>\n",
              "      <td>approved</td>\n",
              "      <td>0</td>\n",
              "      <td>0</td>\n",
              "      <td>0</td>\n",
              "      <td>0</td>\n",
              "      <td>0</td>\n",
              "      <td>0.0</td>\n",
              "      <td>0</td>\n",
              "      <td>10</td>\n",
              "      <td>guess know west high chalk full gang junk mino...</td>\n",
              "    </tr>\n",
              "  </tbody>\n",
              "</table>\n",
              "<p>100000 rows × 45 columns</p>\n",
              "</div>\n",
              "      <button class=\"colab-df-convert\" onclick=\"convertToInteractive('df-848c3bce-dc59-4e17-a3b2-45fa082e751c')\"\n",
              "              title=\"Convert this dataframe to an interactive table.\"\n",
              "              style=\"display:none;\">\n",
              "        \n",
              "  <svg xmlns=\"http://www.w3.org/2000/svg\" height=\"24px\"viewBox=\"0 0 24 24\"\n",
              "       width=\"24px\">\n",
              "    <path d=\"M0 0h24v24H0V0z\" fill=\"none\"/>\n",
              "    <path d=\"M18.56 5.44l.94 2.06.94-2.06 2.06-.94-2.06-.94-.94-2.06-.94 2.06-2.06.94zm-11 1L8.5 8.5l.94-2.06 2.06-.94-2.06-.94L8.5 2.5l-.94 2.06-2.06.94zm10 10l.94 2.06.94-2.06 2.06-.94-2.06-.94-.94-2.06-.94 2.06-2.06.94z\"/><path d=\"M17.41 7.96l-1.37-1.37c-.4-.4-.92-.59-1.43-.59-.52 0-1.04.2-1.43.59L10.3 9.45l-7.72 7.72c-.78.78-.78 2.05 0 2.83L4 21.41c.39.39.9.59 1.41.59.51 0 1.02-.2 1.41-.59l7.78-7.78 2.81-2.81c.8-.78.8-2.07 0-2.86zM5.41 20L4 18.59l7.72-7.72 1.47 1.35L5.41 20z\"/>\n",
              "  </svg>\n",
              "      </button>\n",
              "      \n",
              "  <style>\n",
              "    .colab-df-container {\n",
              "      display:flex;\n",
              "      flex-wrap:wrap;\n",
              "      gap: 12px;\n",
              "    }\n",
              "\n",
              "    .colab-df-convert {\n",
              "      background-color: #E8F0FE;\n",
              "      border: none;\n",
              "      border-radius: 50%;\n",
              "      cursor: pointer;\n",
              "      display: none;\n",
              "      fill: #1967D2;\n",
              "      height: 32px;\n",
              "      padding: 0 0 0 0;\n",
              "      width: 32px;\n",
              "    }\n",
              "\n",
              "    .colab-df-convert:hover {\n",
              "      background-color: #E2EBFA;\n",
              "      box-shadow: 0px 1px 2px rgba(60, 64, 67, 0.3), 0px 1px 3px 1px rgba(60, 64, 67, 0.15);\n",
              "      fill: #174EA6;\n",
              "    }\n",
              "\n",
              "    [theme=dark] .colab-df-convert {\n",
              "      background-color: #3B4455;\n",
              "      fill: #D2E3FC;\n",
              "    }\n",
              "\n",
              "    [theme=dark] .colab-df-convert:hover {\n",
              "      background-color: #434B5C;\n",
              "      box-shadow: 0px 1px 3px 1px rgba(0, 0, 0, 0.15);\n",
              "      filter: drop-shadow(0px 1px 2px rgba(0, 0, 0, 0.3));\n",
              "      fill: #FFFFFF;\n",
              "    }\n",
              "  </style>\n",
              "\n",
              "      <script>\n",
              "        const buttonEl =\n",
              "          document.querySelector('#df-848c3bce-dc59-4e17-a3b2-45fa082e751c button.colab-df-convert');\n",
              "        buttonEl.style.display =\n",
              "          google.colab.kernel.accessAllowed ? 'block' : 'none';\n",
              "\n",
              "        async function convertToInteractive(key) {\n",
              "          const element = document.querySelector('#df-848c3bce-dc59-4e17-a3b2-45fa082e751c');\n",
              "          const dataTable =\n",
              "            await google.colab.kernel.invokeFunction('convertToInteractive',\n",
              "                                                     [key], {});\n",
              "          if (!dataTable) return;\n",
              "\n",
              "          const docLinkHtml = 'Like what you see? Visit the ' +\n",
              "            '<a target=\"_blank\" href=https://colab.research.google.com/notebooks/data_table.ipynb>data table notebook</a>'\n",
              "            + ' to learn more about interactive tables.';\n",
              "          element.innerHTML = '';\n",
              "          dataTable['output_type'] = 'display_data';\n",
              "          await google.colab.output.renderOutput(dataTable, element);\n",
              "          const docLink = document.createElement('div');\n",
              "          docLink.innerHTML = docLinkHtml;\n",
              "          element.appendChild(docLink);\n",
              "        }\n",
              "      </script>\n",
              "    </div>\n",
              "  </div>\n",
              "  "
            ]
          },
          "metadata": {},
          "execution_count": 13
        }
      ]
    },
    {
      "cell_type": "markdown",
      "source": [
        "NAIVE BAYES CLASSIFIER"
      ],
      "metadata": {
        "id": "_XRiH41qfyvb"
      },
      "id": "_XRiH41qfyvb"
    },
    {
      "cell_type": "code",
      "source": [
        "#CONVERTING THE CONTINUOUS TARGET VALUE INTO CATEGORICAL\n",
        "data = pd.cut(data_toxic['target'],bins = [0.0,0.5,1.0],labels = ['0','1'],include_lowest=True)"
      ],
      "metadata": {
        "id": "o3Ez_xsrf6R0"
      },
      "id": "o3Ez_xsrf6R0",
      "execution_count": 14,
      "outputs": []
    },
    {
      "cell_type": "code",
      "source": [
        "data.head()"
      ],
      "metadata": {
        "colab": {
          "base_uri": "https://localhost:8080/"
        },
        "id": "nTU4Hoz5gxrW",
        "outputId": "d61244db-d5e0-43a2-d962-b239c9cde443"
      },
      "id": "nTU4Hoz5gxrW",
      "execution_count": 15,
      "outputs": [
        {
          "output_type": "execute_result",
          "data": {
            "text/plain": [
              "id\n",
              "364507    0\n",
              "364508    0\n",
              "364509    0\n",
              "364511    0\n",
              "364512    0\n",
              "Name: target, dtype: category\n",
              "Categories (2, object): ['0' < '1']"
            ]
          },
          "metadata": {},
          "execution_count": 15
        }
      ]
    },
    {
      "cell_type": "code",
      "source": [
        "data.value_counts()"
      ],
      "metadata": {
        "colab": {
          "base_uri": "https://localhost:8080/"
        },
        "id": "mHgahKpWievn",
        "outputId": "0aaa112c-7feb-4210-8ce9-ffc84c58251b"
      },
      "id": "mHgahKpWievn",
      "execution_count": 16,
      "outputs": [
        {
          "output_type": "execute_result",
          "data": {
            "text/plain": [
              "0    93658\n",
              "1     6342\n",
              "Name: target, dtype: int64"
            ]
          },
          "metadata": {},
          "execution_count": 16
        }
      ]
    },
    {
      "cell_type": "code",
      "source": [
        "from sklearn.feature_extraction.text import CountVectorizer\n",
        "cv = CountVectorizer(max_features = 1400)\n",
        "x = cv.fit_transform(data_toxic['preprocessed_text']).toarray()"
      ],
      "metadata": {
        "id": "MBakFEJIlwh2"
      },
      "id": "MBakFEJIlwh2",
      "execution_count": 17,
      "outputs": []
    },
    {
      "cell_type": "code",
      "source": [
        "from sklearn.model_selection import train_test_split"
      ],
      "metadata": {
        "id": "kNXyeV7qX8z1"
      },
      "id": "kNXyeV7qX8z1",
      "execution_count": 18,
      "outputs": []
    },
    {
      "cell_type": "code",
      "source": [
        "data_train,data_test,target_train,target_test = train_test_split(x,data,test_size = 0.3,random_state = 4)"
      ],
      "metadata": {
        "id": "jhrZI7KbYJq1"
      },
      "id": "jhrZI7KbYJq1",
      "execution_count": 19,
      "outputs": []
    },
    {
      "cell_type": "code",
      "source": [
        "target_train.head()"
      ],
      "metadata": {
        "colab": {
          "base_uri": "https://localhost:8080/"
        },
        "id": "hh7KIaUcY1iy",
        "outputId": "048cad0d-4810-43fa-e15c-bb414badb370"
      },
      "id": "hh7KIaUcY1iy",
      "execution_count": 20,
      "outputs": [
        {
          "output_type": "execute_result",
          "data": {
            "text/plain": [
              "id\n",
              "406746    0\n",
              "373033    0\n",
              "452563    0\n",
              "482726    0\n",
              "368625    0\n",
              "Name: target, dtype: category\n",
              "Categories (2, object): ['0' < '1']"
            ]
          },
          "metadata": {},
          "execution_count": 20
        }
      ]
    },
    {
      "cell_type": "code",
      "source": [
        "data_train"
      ],
      "metadata": {
        "colab": {
          "base_uri": "https://localhost:8080/"
        },
        "id": "KhFCe_WDmB5g",
        "outputId": "7960f490-1c0f-4ce7-bbaf-ce1ed6c75f44"
      },
      "id": "KhFCe_WDmB5g",
      "execution_count": 21,
      "outputs": [
        {
          "output_type": "execute_result",
          "data": {
            "text/plain": [
              "array([[0, 0, 0, ..., 0, 0, 0],\n",
              "       [0, 0, 0, ..., 0, 0, 0],\n",
              "       [0, 0, 0, ..., 0, 0, 0],\n",
              "       ...,\n",
              "       [0, 0, 0, ..., 0, 0, 0],\n",
              "       [0, 0, 0, ..., 0, 0, 0],\n",
              "       [0, 0, 0, ..., 0, 0, 0]])"
            ]
          },
          "metadata": {},
          "execution_count": 21
        }
      ]
    },
    {
      "cell_type": "code",
      "source": [
        "from sklearn.naive_bayes import GaussianNB\n",
        "gnb = GaussianNB()\n",
        "model = gnb.fit(data_train,target_train)"
      ],
      "metadata": {
        "id": "IGet-SDLY594"
      },
      "id": "IGet-SDLY594",
      "execution_count": 44,
      "outputs": []
    },
    {
      "cell_type": "code",
      "source": [
        "gnb.get_params()"
      ],
      "metadata": {
        "colab": {
          "base_uri": "https://localhost:8080/"
        },
        "id": "QYWTiuERn32T",
        "outputId": "4d877af6-e7fc-4913-cc63-4e170a8fe517"
      },
      "id": "QYWTiuERn32T",
      "execution_count": 45,
      "outputs": [
        {
          "output_type": "execute_result",
          "data": {
            "text/plain": [
              "{'priors': None, 'var_smoothing': 1e-09}"
            ]
          },
          "metadata": {},
          "execution_count": 45
        }
      ]
    },
    {
      "cell_type": "code",
      "source": [
        "ypred = model.predict(data_test)\n",
        "ypredtrain = model.predict(data_train)\n"
      ],
      "metadata": {
        "id": "tyfQkI-kmJ1A"
      },
      "id": "tyfQkI-kmJ1A",
      "execution_count": 24,
      "outputs": []
    },
    {
      "cell_type": "code",
      "source": [
        "#Confusion Matrix based on Naive bayes classifier\n",
        "from sklearn.metrics import accuracy_score,confusion_matrix\n",
        "ac = accuracy_score(target_test,ypred)\n",
        "print(\"Accuracy Score:\",ac)\n",
        "cm = confusion_matrix(target_test,ypred)\n",
        "plt.figure()\n",
        "sns.heatmap(cm,annot=True)\n",
        "plt.xlabel('Target')\n",
        "plt.ylabel('Prediction')\n",
        "plt.title('Confusion Matrix for Naive Bayes')\n"
      ],
      "metadata": {
        "colab": {
          "base_uri": "https://localhost:8080/",
          "height": 330
        },
        "id": "KtW1rsf5mPWN",
        "outputId": "94a800ae-cad2-476b-889a-a15ee7956f71"
      },
      "id": "KtW1rsf5mPWN",
      "execution_count": 28,
      "outputs": [
        {
          "output_type": "stream",
          "name": "stdout",
          "text": [
            "Accuracy Score: 0.46426666666666666\n"
          ]
        },
        {
          "output_type": "execute_result",
          "data": {
            "text/plain": [
              "Text(0.5, 1.0, 'Confusion Matrix for Naive Bayes')"
            ]
          },
          "metadata": {},
          "execution_count": 28
        },
        {
          "output_type": "display_data",
          "data": {
            "text/plain": [
              "<Figure size 432x288 with 2 Axes>"
            ],
            "image/png": "[encoded data removed]"
          },
          "metadata": {
            "needs_background": "light"
          }
        }
      ]
    },
    {
      "cell_type": "code",
      "source": [
        "#Classification report\n",
        "from sklearn.metrics import roc_auc_score,roc_curve,classification_report,confusion_matrix,plot_confusion_matrix\n",
        "print(classification_report(target_test,ypred))\n"
      ],
      "metadata": {
        "colab": {
          "base_uri": "https://localhost:8080/"
        },
        "id": "wf-fIUTomsXD",
        "outputId": "fb7290ff-59b7-473d-a11f-0669676d74c6"
      },
      "id": "wf-fIUTomsXD",
      "execution_count": 29,
      "outputs": [
        {
          "output_type": "stream",
          "name": "stdout",
          "text": [
            "              precision    recall  f1-score   support\n",
            "\n",
            "           0       0.97      0.44      0.61     28094\n",
            "           1       0.09      0.79      0.16      1906\n",
            "\n",
            "    accuracy                           0.46     30000\n",
            "   macro avg       0.53      0.61      0.38     30000\n",
            "weighted avg       0.91      0.46      0.58     30000\n",
            "\n"
          ]
        }
      ]
    },
    {
      "cell_type": "code",
      "source": [
        "# Accuracy Score on test dataset\n",
        "accuracy_test = accuracy_score(target_test,ypred)\n",
        "print('accuracy_score on test dataset : ', accuracy_test)\n",
        "# Accuracy Score on train dataset\n",
        "accuracy_train = accuracy_score(target_train,ypred_train)\n",
        "print('accuracy_score on train dataset : ', accuracy_train)"
      ],
      "metadata": {
        "id": "qGTJpN9-DlBu"
      },
      "id": "qGTJpN9-DlBu",
      "execution_count": null,
      "outputs": []
    },
    {
      "cell_type": "code",
      "source": [
        "#Hyperparameter parameter tuning\n",
        "np.logspace(0,-9, num=10)\n",
        "from sklearn.model_selection import RepeatedStratifiedKFold,GridSearchCV\n",
        "\n",
        "crossvalidation = RepeatedStratifiedKFold(n_splits=3, \n",
        "                                    n_repeats=2)\n",
        "\n",
        "from sklearn.preprocessing import PowerTransformer\n",
        "param = {'var_smoothing': np.logspace(0,-9, num=20)}\n",
        "\n",
        "gaussianNB = GridSearchCV(estimator=model, \n",
        "                     param_grid=param, \n",
        "                     cv=crossvalidation,\n",
        "                     verbose=1, \n",
        "                     scoring='accuracy')\n",
        "\n",
        "Data_transformed = PowerTransformer().fit_transform(data_test)\n",
        "\n",
        "gaussianNB.fit(Data_transformed, target_test);"
      ],
      "metadata": {
        "colab": {
          "base_uri": "https://localhost:8080/"
        },
        "id": "iijx3wWvqHW7",
        "outputId": "60066809-e864-41b2-d481-16382e0b2de1"
      },
      "id": "iijx3wWvqHW7",
      "execution_count": 46,
      "outputs": [
        {
          "output_type": "stream",
          "name": "stdout",
          "text": [
            "Fitting 6 folds for each of 20 candidates, totalling 120 fits\n"
          ]
        }
      ]
    },
    {
      "cell_type": "code",
      "source": [
        "predict_test = gaussianNB.predict(Data_transformed)\n",
        "\n",
        "# Accuracy Score on test dataset\n",
        "accuracy_test = accuracy_score(target_test,predict_test)\n",
        "print('accuracy_score on test dataset : ', accuracy_test)\n",
        "# Accuracy Score on train dataset\n",
        "accuracy_train = accuracy_score(target_train,predict_train)\n",
        "print('accuracy_score on train dataset : ', accuracy_test)"
      ],
      "metadata": {
        "colab": {
          "base_uri": "https://localhost:8080/"
        },
        "id": "cfWqrZmUtbMH",
        "outputId": "f69c8ba0-8ab3-49bc-de5b-397bf07c145e"
      },
      "id": "cfWqrZmUtbMH",
      "execution_count": null,
      "outputs": [
        {
          "output_type": "stream",
          "name": "stdout",
          "text": [
            "accuracy_score on test dataset :  0.5061333333333333\n"
          ]
        }
      ]
    },
    {
      "cell_type": "markdown",
      "source": [
        "Decision Tree"
      ],
      "metadata": {
        "id": "VeWeSqj_PhO7"
      },
      "id": "VeWeSqj_PhO7"
    },
    {
      "cell_type": "code",
      "source": [
        "from sklearn.tree import DecisionTreeClassifier"
      ],
      "metadata": {
        "id": "uhgVirzLPj0b"
      },
      "id": "uhgVirzLPj0b",
      "execution_count": 30,
      "outputs": []
    },
    {
      "cell_type": "code",
      "source": [
        "dtc = DecisionTreeClassifier(criterion='entropy',random_state=3,)"
      ],
      "metadata": {
        "id": "VGiPrxRPQpMy"
      },
      "id": "VGiPrxRPQpMy",
      "execution_count": 31,
      "outputs": []
    },
    {
      "cell_type": "code",
      "source": [
        "modelDTC = dtc.fit(data_train,target_train)"
      ],
      "metadata": {
        "id": "uM4nupetSjRG"
      },
      "id": "uM4nupetSjRG",
      "execution_count": 32,
      "outputs": []
    },
    {
      "cell_type": "code",
      "source": [
        "predDTC = dtc.predict(data_test)"
      ],
      "metadata": {
        "id": "UpdZJdVpUJc6"
      },
      "id": "UpdZJdVpUJc6",
      "execution_count": 33,
      "outputs": []
    },
    {
      "cell_type": "code",
      "source": [
        "#Confusion Matrix based on Naive bayes classifier\n",
        "from sklearn.metrics import accuracy_score,confusion_matrix\n",
        "cmDTC = confusion_matrix(target_test,predDTC)\n",
        "plt.figure()\n",
        "sns.heatmap(cmDTC,annot=True)\n",
        "plt.xlabel('Target')\n",
        "plt.ylabel('Prediction')\n",
        "plt.title('Confusion Matrix for Decision Tree Classifier')"
      ],
      "metadata": {
        "colab": {
          "base_uri": "https://localhost:8080/",
          "height": 330
        },
        "id": "vwc1SOM_UOrM",
        "outputId": "1c4b2861-a303-4660-ec04-aed8508d22a7"
      },
      "id": "vwc1SOM_UOrM",
      "execution_count": 34,
      "outputs": [
        {
          "output_type": "stream",
          "name": "stdout",
          "text": [
            "Accuracy Score: 0.9102666666666667\n"
          ]
        },
        {
          "output_type": "execute_result",
          "data": {
            "text/plain": [
              "Text(0.5, 1.0, 'Confusion Matrix for Decision Tree Classifier')"
            ]
          },
          "metadata": {},
          "execution_count": 34
        },
        {
          "output_type": "display_data",
          "data": {
            "text/plain": [
              "<Figure size 432x288 with 2 Axes>"
            ],
            "image/png": "[encoded data removed]"
          },
          "metadata": {
            "needs_background": "light"
          }
        }
      ]
    },
    {
      "cell_type": "code",
      "source": [
        "print(\"Accuracy score for test data:\",modelDTC.score(data_test,target_test)*100)\n",
        "print(\"Accuracy score for train data:\",modelDTC.score(data_train,target_train)*100)\n"
      ],
      "metadata": {
        "colab": {
          "base_uri": "https://localhost:8080/"
        },
        "id": "DgcYktrH_cjE",
        "outputId": "52e0dbd5-b3d1-4fde-a9ee-bb48481c6cbb"
      },
      "id": "DgcYktrH_cjE",
      "execution_count": 39,
      "outputs": [
        {
          "output_type": "stream",
          "name": "stdout",
          "text": [
            "Accuracy score for test data: 91.02666666666667\n",
            "Accuracy score for train data: 99.74\n"
          ]
        }
      ]
    },
    {
      "cell_type": "code",
      "source": [
        "#Hyperparameter tuning\n",
        "for max_d in range(1,21):\n",
        "  model = DecisionTreeClassifier(max_depth=max_d, random_state=42)\n",
        "  model.fit(data_train, target_train)\n",
        "  print('The Training Accuracy for max_depth {} is:'.format(max_d), model.score(data_train, target_train))\n",
        "  print('The Validation Accuracy for max_depth {} is:'.format(max_d), model.score(data_test,target_test))\n",
        "  print('')"
      ],
      "metadata": {
        "colab": {
          "base_uri": "https://localhost:8080/"
        },
        "id": "KO8QjKXZBTIN",
        "outputId": "2026d8ee-574f-4e92-84dd-39a51879b360"
      },
      "id": "KO8QjKXZBTIN",
      "execution_count": 40,
      "outputs": [
        {
          "output_type": "stream",
          "name": "stdout",
          "text": [
            "The Training Accuracy for max_depth 1 is: 0.9412142857142857\n",
            "The Validation Accuracy for max_depth 1 is: 0.9412\n",
            "\n",
            "The Training Accuracy for max_depth 2 is: 0.9447285714285715\n",
            "The Validation Accuracy for max_depth 2 is: 0.9446666666666667\n",
            "\n",
            "The Training Accuracy for max_depth 3 is: 0.9449428571428572\n",
            "The Validation Accuracy for max_depth 3 is: 0.9445333333333333\n",
            "\n",
            "The Training Accuracy for max_depth 4 is: 0.9455857142857143\n",
            "The Validation Accuracy for max_depth 4 is: 0.9447\n",
            "\n",
            "The Training Accuracy for max_depth 5 is: 0.9465714285714286\n",
            "The Validation Accuracy for max_depth 5 is: 0.9452666666666667\n",
            "\n",
            "The Training Accuracy for max_depth 6 is: 0.9472\n",
            "The Validation Accuracy for max_depth 6 is: 0.9454666666666667\n",
            "\n",
            "The Training Accuracy for max_depth 7 is: 0.9477142857142857\n",
            "The Validation Accuracy for max_depth 7 is: 0.9454333333333333\n",
            "\n",
            "The Training Accuracy for max_depth 8 is: 0.9483571428571429\n",
            "The Validation Accuracy for max_depth 8 is: 0.9452\n",
            "\n",
            "The Training Accuracy for max_depth 9 is: 0.9490428571428572\n",
            "The Validation Accuracy for max_depth 9 is: 0.9450333333333333\n",
            "\n",
            "The Training Accuracy for max_depth 10 is: 0.9495571428571429\n",
            "The Validation Accuracy for max_depth 10 is: 0.9449\n",
            "\n",
            "The Training Accuracy for max_depth 11 is: 0.9503428571428572\n",
            "The Validation Accuracy for max_depth 11 is: 0.9442333333333334\n",
            "\n",
            "The Training Accuracy for max_depth 12 is: 0.9514428571428571\n",
            "The Validation Accuracy for max_depth 12 is: 0.9440666666666667\n",
            "\n",
            "The Training Accuracy for max_depth 13 is: 0.9525428571428571\n",
            "The Validation Accuracy for max_depth 13 is: 0.9431666666666667\n",
            "\n",
            "The Training Accuracy for max_depth 14 is: 0.9534571428571429\n",
            "The Validation Accuracy for max_depth 14 is: 0.9433333333333334\n",
            "\n",
            "The Training Accuracy for max_depth 15 is: 0.9542285714285714\n",
            "The Validation Accuracy for max_depth 15 is: 0.9431333333333334\n",
            "\n",
            "The Training Accuracy for max_depth 16 is: 0.9552714285714285\n",
            "The Validation Accuracy for max_depth 16 is: 0.9430333333333333\n",
            "\n",
            "The Training Accuracy for max_depth 17 is: 0.9562571428571428\n",
            "The Validation Accuracy for max_depth 17 is: 0.9422\n",
            "\n",
            "The Training Accuracy for max_depth 18 is: 0.9571428571428572\n",
            "The Validation Accuracy for max_depth 18 is: 0.9412666666666667\n",
            "\n",
            "The Training Accuracy for max_depth 19 is: 0.9581\n",
            "The Validation Accuracy for max_depth 19 is: 0.9416\n",
            "\n",
            "The Training Accuracy for max_depth 20 is: 0.9591571428571428\n",
            "The Validation Accuracy for max_depth 20 is: 0.9409333333333333\n",
            "\n"
          ]
        }
      ]
    },
    {
      "cell_type": "markdown",
      "source": [
        "Naive Bayes\n",
        "\n",
        "1.   Accuracy score: 46.43\n",
        "2.   Accuracy score after hyperparameter tuning: 50.04\n",
        "\n",
        "Decision Tree\n",
        "\n",
        "1.   Accuracy score: 91.02\n",
        "2.   Accuracy score after hyperparameter tuning: 94.09\n",
        "\n",
        "\n",
        "\n"
      ],
      "metadata": {
        "id": "ulz0G300CrQY"
      },
      "id": "ulz0G300CrQY"
    },
    {
      "cell_type": "markdown",
      "source": [],
      "metadata": {
        "id": "LaadEZI291RV"
      },
      "id": "LaadEZI291RV"
    }
  ],
  "metadata": {
    "kernelspec": {
      "display_name": "Python 3 (ipykernel)",
      "language": "python",
      "name": "python3"
    },
    "language_info": {
      "codemirror_mode": {
        "name": "ipython",
        "version": 3
      },
      "file_extension": ".py",
      "mimetype": "text/x-python",
      "name": "python",
      "nbconvert_exporter": "python",
      "pygments_lexer": "ipython3",
      "version": "3.10.9"
    },
    "colab": {
      "provenance": []
    },
    "accelerator": "GPU",
    "gpuClass": "standard"
  },
  "nbformat": 4,
  "nbformat_minor": 5
}